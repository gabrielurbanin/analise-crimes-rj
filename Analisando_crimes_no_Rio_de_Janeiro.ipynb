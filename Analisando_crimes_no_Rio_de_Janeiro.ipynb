{
  "nbformat": 4,
  "nbformat_minor": 0,
  "metadata": {
    "colab": {
      "name": "Analisando_crimes_no_Rio_de_Janeiro.ipynb",
      "provenance": [],
      "collapsed_sections": [],
      "toc_visible": true,
      "include_colab_link": true
    },
    "kernelspec": {
      "name": "python3",
      "display_name": "Python 3"
    }
  },
  "cells": [
    {
      "cell_type": "markdown",
      "metadata": {
        "id": "view-in-github",
        "colab_type": "text"
      },
      "source": [
        "<a href=\"https://colab.research.google.com/github/gabrielurbanin/analise-crimes-rj/blob/master/Analisando_crimes_no_Rio_de_Janeiro.ipynb\" target=\"_parent\"><img src=\"https://colab.research.google.com/assets/colab-badge.svg\" alt=\"Open In Colab\"/></a>"
      ]
    },
    {
      "cell_type": "markdown",
      "metadata": {
        "id": "kLI0gJtzDGuQ",
        "colab_type": "text"
      },
      "source": [
        "# Análise do histórico de crime contra propriedade no Rio de Janeiro"
      ]
    },
    {
      "cell_type": "markdown",
      "metadata": {
        "id": "-eFQZydM9O9J",
        "colab_type": "text"
      },
      "source": [
        "<img alt=\"Colaboratory logo\" width=\"200%\" src=\"https://raw.githack.com/gabrielurbanin/analise-crimes-rj/master/fundo_crimes_rj.png\">\n",
        "\n",
        "  "
      ]
    },
    {
      "cell_type": "markdown",
      "metadata": {
        "id": "xlJN5zrobwGQ",
        "colab_type": "text"
      },
      "source": [
        "O Rio de Janeiro é, sem dúvidas, um dos estados brasileiros mais conhecidos pelo mundo, e também por todo território nacional. Afinal, o estado abriga pontos turísticos reconhecidos mundialmente - como o Cristo Redentor, o pão de açucar e a praia de copacabana - além de ser lar dos principais desfiles de carnaval do país.\n",
        "\n",
        "Entretanto, o Rio de Janeiro também é famoso por seus índices de criminalidade. De acordo com dados do 11º Anuário de Segurança Pública, publicado pelo Fórum Brasileiro de Segurança Pública em 2017, o Rio de Janeiro foi considerado o décimo estado mais violento do Brasil.\n",
        "\n",
        "Trazendo para o cenário atual, conforme levantamento do Grupo Tracker - empresa de rastreamento e localização de veículos - realizado no mês de Abril de 2020, mesmo durante a pandemia de Covid-19, o índice de roubos e furtos de motocicletas aumentou 200% no estado carioca.\n",
        "\n",
        "Devido a esses fatores, neste notebook analisarei o histórico de crimes contra a propriedade, tendo foco em veículos, no estado do Rio de Janeiro entre os anos de 1991 e 2019.\n",
        "\n"
      ]
    },
    {
      "cell_type": "markdown",
      "metadata": {
        "id": "0zxQHhIUDF_2",
        "colab_type": "text"
      },
      "source": [
        "## Obtenção dos Dados\n",
        "\n",
        "\n",
        "Os dados para essa análise foram obtidos diretamente do site do Instituto de Segurança Pública para o estado do Rio de Janeiro, que você pode acessar [clicando neste link](http://www.ispdados.rj.gov.br/estatistica.html)\n",
        "\n"
      ]
    },
    {
      "cell_type": "markdown",
      "metadata": {
        "id": "7vh4at0l90nr",
        "colab_type": "text"
      },
      "source": [
        "### Importando os dados\n",
        "\n",
        "O arquivo csv que será importado é o \"Estatísticas de segurança: série histórica mensal no estado desde 01/1991\".\n",
        "\n",
        "Antes de qualquer coisa, será necessário importar a biblioteca `pandas` que facilita o tratamento e a análise dos dados com python, para então adicionar o csv a um _DataFrame_."
      ]
    },
    {
      "cell_type": "code",
      "metadata": {
        "id": "2ZPdE21oUsMH",
        "colab_type": "code",
        "colab": {}
      },
      "source": [
        "# Importando pandas\n",
        "\n",
        "import pandas as pd"
      ],
      "execution_count": 1,
      "outputs": []
    },
    {
      "cell_type": "code",
      "metadata": {
        "id": "CYLNme_OCX_R",
        "colab_type": "code",
        "colab": {}
      },
      "source": [
        "# Adicionando o csv a um DataFrame\n",
        "\n",
        "df = pd.read_csv(\"https://raw.githubusercontent.com/carlosfab/dsnp2/master/datasets/violencia_rio.csv\")"
      ],
      "execution_count": 2,
      "outputs": []
    },
    {
      "cell_type": "markdown",
      "metadata": {
        "id": "qb5By2nIMS6m",
        "colab_type": "text"
      },
      "source": [
        "## Análise Inicial dos Dados\n",
        "\n",
        "Inicialmente, irei tomar noção das dimensões do nosso _DataFrame_ e de como os dados estão organizados nas colunas.\n",
        "\n"
      ]
    },
    {
      "cell_type": "code",
      "metadata": {
        "id": "mQlguBi5U8Bm",
        "colab_type": "code",
        "colab": {
          "base_uri": "https://localhost:8080/",
          "height": 34
        },
        "outputId": "38ef1f68-7b93-4680-b240-d58cb2323c46"
      },
      "source": [
        "# Verificando tamanho do DataFrame\n",
        "\n",
        "df.shape"
      ],
      "execution_count": 3,
      "outputs": [
        {
          "output_type": "execute_result",
          "data": {
            "text/plain": [
              "(344, 56)"
            ]
          },
          "metadata": {
            "tags": []
          },
          "execution_count": 3
        }
      ]
    },
    {
      "cell_type": "markdown",
      "metadata": {
        "id": "bGWUJ85YAdPB",
        "colab_type": "text"
      },
      "source": [
        "Logo, possuimos 344 entradas e 56 variáveis para cada uma delas. No entanto, o foco da minha análise são os dados sobre crimes contra a propriedade (veículos), então preciso verificar quais variáveis irão ser úteis no processo.\n"
      ]
    },
    {
      "cell_type": "code",
      "metadata": {
        "id": "45XH3jdtVAoM",
        "colab_type": "code",
        "colab": {
          "base_uri": "https://localhost:8080/",
          "height": 306
        },
        "outputId": "d47945a4-b59d-4b87-940e-a1087c94dd15"
      },
      "source": [
        "# Listando todas as variáveis do DataFrame\n",
        "\n",
        "df.columns"
      ],
      "execution_count": 4,
      "outputs": [
        {
          "output_type": "execute_result",
          "data": {
            "text/plain": [
              "Index(['vano', 'mes', 'hom_doloso', 'lesao_corp_morte', 'latrocinio',\n",
              "       'hom_por_interv_policial', 'tentat_hom', 'lesao_corp_dolosa', 'estupro',\n",
              "       'hom_culposo', 'lesao_corp_culposa', 'roubo_comercio',\n",
              "       'roubo_residencia', 'roubo_veiculo', 'roubo_carga', 'roubo_transeunte',\n",
              "       'roubo_em_coletivo', 'roubo_banco', 'roubo_cx_eletronico',\n",
              "       'roubo_celular', 'roubo_conducao_saque', 'roubo_apos_saque',\n",
              "       'roubo_bicicleta', 'outros_roubos', 'total_roubos', 'furto_veiculos',\n",
              "       'furto_transeunte', 'furto_coletivo', 'furto_celular',\n",
              "       'furto_bicicleta', 'outros_furtos', 'total_furtos', 'sequestro',\n",
              "       'extorsao', 'sequestro_relampago', 'estelionato', 'apreensao_drogas',\n",
              "       'posse_drogas', 'trafico_drogas', 'apreensao_drogas_sem_autor',\n",
              "       'recuperacao_veiculos', 'apf', 'aaapai', 'cmp', 'cmba', 'ameaca',\n",
              "       'pessoas_desaparecidas', 'encontro_cadaver', 'encontro_ossada',\n",
              "       'pol_militares_mortos_serv', 'pol_civis_mortos_serv',\n",
              "       'indicador_letalidade', 'indicador_roubo_rua', 'indicador_roubo_veic',\n",
              "       'registro_ocorrencias', 'fase'],\n",
              "      dtype='object')"
            ]
          },
          "metadata": {
            "tags": []
          },
          "execution_count": 4
        }
      ]
    },
    {
      "cell_type": "markdown",
      "metadata": {
        "id": "qROoxfciBL2z",
        "colab_type": "text"
      },
      "source": [
        "Dessa forma, as variáveis que serão úteis são:\n",
        "- `ano`: ano de coleta daquele dado.\n",
        "- `mes`: mês de coleta daquele dado.\n",
        "- `roubo_veiculos`: quantidade de veículos roubados naquele mês.\n",
        "- `furto_veiculos`: quantidade de veículos furtados naquele mês.\n",
        "- `recuperacao_veiculos`: quantidade de veículos recuperados pela polícia naquele mês.\n",
        "\n",
        "Nesse caso, é importante ressaltar a diferença entre furto e roubo: no furto, não há episódio de violência ou ameaça contra a vítima. Já o roubo consiste na ocorrência de ameaça ou violência contra quem está sendo roubado (sinônimo de assalto).\n",
        "\n",
        "Após corrigir o nome de algumas variáveis com o propósito de padronizar o _DataFrame_, irei mostrar as 5 primeiras entradas para ter uma noção de como os dados estão dispostos:"
      ]
    },
    {
      "cell_type": "code",
      "metadata": {
        "id": "BuVmDuLoVEZ_",
        "colab_type": "code",
        "colab": {
          "base_uri": "https://localhost:8080/",
          "height": 224
        },
        "outputId": "fd852075-7f07-4df8-a198-ce4db41effaf"
      },
      "source": [
        "# Renomeando variáveis\n",
        "\n",
        "df = df.rename(columns= {'vano':'ano', 'roubo_veiculo':'roubo_veiculos'})\n",
        "\n",
        "# Mostrando as 5 primeiras entradas do DataFrame\n",
        "\n",
        "df.head()"
      ],
      "execution_count": null,
      "outputs": [
        {
          "output_type": "execute_result",
          "data": {
            "text/html": [
              "<div>\n",
              "<style scoped>\n",
              "    .dataframe tbody tr th:only-of-type {\n",
              "        vertical-align: middle;\n",
              "    }\n",
              "\n",
              "    .dataframe tbody tr th {\n",
              "        vertical-align: top;\n",
              "    }\n",
              "\n",
              "    .dataframe thead th {\n",
              "        text-align: right;\n",
              "    }\n",
              "</style>\n",
              "<table border=\"1\" class=\"dataframe\">\n",
              "  <thead>\n",
              "    <tr style=\"text-align: right;\">\n",
              "      <th></th>\n",
              "      <th>ano</th>\n",
              "      <th>mes</th>\n",
              "      <th>hom_doloso</th>\n",
              "      <th>lesao_corp_morte</th>\n",
              "      <th>latrocinio</th>\n",
              "      <th>hom_por_interv_policial</th>\n",
              "      <th>tentat_hom</th>\n",
              "      <th>lesao_corp_dolosa</th>\n",
              "      <th>estupro</th>\n",
              "      <th>hom_culposo</th>\n",
              "      <th>lesao_corp_culposa</th>\n",
              "      <th>roubo_comercio</th>\n",
              "      <th>roubo_residencia</th>\n",
              "      <th>roubo_veiculos</th>\n",
              "      <th>roubo_carga</th>\n",
              "      <th>roubo_transeunte</th>\n",
              "      <th>roubo_em_coletivo</th>\n",
              "      <th>roubo_banco</th>\n",
              "      <th>roubo_cx_eletronico</th>\n",
              "      <th>roubo_celular</th>\n",
              "      <th>roubo_conducao_saque</th>\n",
              "      <th>roubo_apos_saque</th>\n",
              "      <th>roubo_bicicleta</th>\n",
              "      <th>outros_roubos</th>\n",
              "      <th>total_roubos</th>\n",
              "      <th>furto_veiculos</th>\n",
              "      <th>furto_transeunte</th>\n",
              "      <th>furto_coletivo</th>\n",
              "      <th>furto_celular</th>\n",
              "      <th>furto_bicicleta</th>\n",
              "      <th>outros_furtos</th>\n",
              "      <th>total_furtos</th>\n",
              "      <th>sequestro</th>\n",
              "      <th>extorsao</th>\n",
              "      <th>sequestro_relampago</th>\n",
              "      <th>estelionato</th>\n",
              "      <th>apreensao_drogas</th>\n",
              "      <th>posse_drogas</th>\n",
              "      <th>trafico_drogas</th>\n",
              "      <th>apreensao_drogas_sem_autor</th>\n",
              "      <th>recuperacao_veiculos</th>\n",
              "      <th>apf</th>\n",
              "      <th>aaapai</th>\n",
              "      <th>cmp</th>\n",
              "      <th>cmba</th>\n",
              "      <th>ameaca</th>\n",
              "      <th>pessoas_desaparecidas</th>\n",
              "      <th>encontro_cadaver</th>\n",
              "      <th>encontro_ossada</th>\n",
              "      <th>pol_militares_mortos_serv</th>\n",
              "      <th>pol_civis_mortos_serv</th>\n",
              "      <th>indicador_letalidade</th>\n",
              "      <th>indicador_roubo_rua</th>\n",
              "      <th>indicador_roubo_veic</th>\n",
              "      <th>registro_ocorrencias</th>\n",
              "      <th>fase</th>\n",
              "    </tr>\n",
              "  </thead>\n",
              "  <tbody>\n",
              "    <tr>\n",
              "      <th>0</th>\n",
              "      <td>1991</td>\n",
              "      <td>1</td>\n",
              "      <td>657</td>\n",
              "      <td>NaN</td>\n",
              "      <td>15</td>\n",
              "      <td>NaN</td>\n",
              "      <td>162</td>\n",
              "      <td>3051</td>\n",
              "      <td>NaN</td>\n",
              "      <td>NaN</td>\n",
              "      <td>NaN</td>\n",
              "      <td>350</td>\n",
              "      <td>188</td>\n",
              "      <td>1174</td>\n",
              "      <td>63</td>\n",
              "      <td>967</td>\n",
              "      <td>381</td>\n",
              "      <td>37</td>\n",
              "      <td>NaN</td>\n",
              "      <td>NaN</td>\n",
              "      <td>NaN</td>\n",
              "      <td>NaN</td>\n",
              "      <td>NaN</td>\n",
              "      <td>158</td>\n",
              "      <td>3318</td>\n",
              "      <td>2009</td>\n",
              "      <td>1147</td>\n",
              "      <td>NaN</td>\n",
              "      <td>NaN</td>\n",
              "      <td>NaN</td>\n",
              "      <td>3561</td>\n",
              "      <td>6717</td>\n",
              "      <td>NaN</td>\n",
              "      <td>NaN</td>\n",
              "      <td>NaN</td>\n",
              "      <td>NaN</td>\n",
              "      <td>133</td>\n",
              "      <td>NaN</td>\n",
              "      <td>NaN</td>\n",
              "      <td>NaN</td>\n",
              "      <td>872</td>\n",
              "      <td>NaN</td>\n",
              "      <td>NaN</td>\n",
              "      <td>NaN</td>\n",
              "      <td>NaN</td>\n",
              "      <td>NaN</td>\n",
              "      <td>NaN</td>\n",
              "      <td>217</td>\n",
              "      <td>NaN</td>\n",
              "      <td>NaN</td>\n",
              "      <td>NaN</td>\n",
              "      <td>672</td>\n",
              "      <td>1348</td>\n",
              "      <td>1174</td>\n",
              "      <td>NaN</td>\n",
              "      <td>3</td>\n",
              "    </tr>\n",
              "    <tr>\n",
              "      <th>1</th>\n",
              "      <td>1991</td>\n",
              "      <td>2</td>\n",
              "      <td>732</td>\n",
              "      <td>NaN</td>\n",
              "      <td>17</td>\n",
              "      <td>NaN</td>\n",
              "      <td>175</td>\n",
              "      <td>3421</td>\n",
              "      <td>NaN</td>\n",
              "      <td>NaN</td>\n",
              "      <td>NaN</td>\n",
              "      <td>357</td>\n",
              "      <td>171</td>\n",
              "      <td>1097</td>\n",
              "      <td>64</td>\n",
              "      <td>963</td>\n",
              "      <td>432</td>\n",
              "      <td>35</td>\n",
              "      <td>NaN</td>\n",
              "      <td>NaN</td>\n",
              "      <td>NaN</td>\n",
              "      <td>NaN</td>\n",
              "      <td>NaN</td>\n",
              "      <td>142</td>\n",
              "      <td>3261</td>\n",
              "      <td>1850</td>\n",
              "      <td>1066</td>\n",
              "      <td>NaN</td>\n",
              "      <td>NaN</td>\n",
              "      <td>NaN</td>\n",
              "      <td>3309</td>\n",
              "      <td>6225</td>\n",
              "      <td>NaN</td>\n",
              "      <td>NaN</td>\n",
              "      <td>NaN</td>\n",
              "      <td>NaN</td>\n",
              "      <td>127</td>\n",
              "      <td>NaN</td>\n",
              "      <td>NaN</td>\n",
              "      <td>NaN</td>\n",
              "      <td>751</td>\n",
              "      <td>NaN</td>\n",
              "      <td>NaN</td>\n",
              "      <td>NaN</td>\n",
              "      <td>NaN</td>\n",
              "      <td>NaN</td>\n",
              "      <td>NaN</td>\n",
              "      <td>209</td>\n",
              "      <td>NaN</td>\n",
              "      <td>NaN</td>\n",
              "      <td>NaN</td>\n",
              "      <td>749</td>\n",
              "      <td>1395</td>\n",
              "      <td>1097</td>\n",
              "      <td>NaN</td>\n",
              "      <td>3</td>\n",
              "    </tr>\n",
              "    <tr>\n",
              "      <th>2</th>\n",
              "      <td>1991</td>\n",
              "      <td>3</td>\n",
              "      <td>713</td>\n",
              "      <td>NaN</td>\n",
              "      <td>25</td>\n",
              "      <td>NaN</td>\n",
              "      <td>216</td>\n",
              "      <td>3613</td>\n",
              "      <td>NaN</td>\n",
              "      <td>NaN</td>\n",
              "      <td>NaN</td>\n",
              "      <td>443</td>\n",
              "      <td>191</td>\n",
              "      <td>1265</td>\n",
              "      <td>71</td>\n",
              "      <td>963</td>\n",
              "      <td>422</td>\n",
              "      <td>43</td>\n",
              "      <td>NaN</td>\n",
              "      <td>NaN</td>\n",
              "      <td>NaN</td>\n",
              "      <td>NaN</td>\n",
              "      <td>NaN</td>\n",
              "      <td>131</td>\n",
              "      <td>3529</td>\n",
              "      <td>2084</td>\n",
              "      <td>1062</td>\n",
              "      <td>NaN</td>\n",
              "      <td>NaN</td>\n",
              "      <td>NaN</td>\n",
              "      <td>3573</td>\n",
              "      <td>6719</td>\n",
              "      <td>NaN</td>\n",
              "      <td>NaN</td>\n",
              "      <td>NaN</td>\n",
              "      <td>NaN</td>\n",
              "      <td>80</td>\n",
              "      <td>NaN</td>\n",
              "      <td>NaN</td>\n",
              "      <td>NaN</td>\n",
              "      <td>789</td>\n",
              "      <td>NaN</td>\n",
              "      <td>NaN</td>\n",
              "      <td>NaN</td>\n",
              "      <td>NaN</td>\n",
              "      <td>NaN</td>\n",
              "      <td>NaN</td>\n",
              "      <td>188</td>\n",
              "      <td>NaN</td>\n",
              "      <td>NaN</td>\n",
              "      <td>NaN</td>\n",
              "      <td>738</td>\n",
              "      <td>1385</td>\n",
              "      <td>1265</td>\n",
              "      <td>NaN</td>\n",
              "      <td>3</td>\n",
              "    </tr>\n",
              "    <tr>\n",
              "      <th>3</th>\n",
              "      <td>1991</td>\n",
              "      <td>4</td>\n",
              "      <td>634</td>\n",
              "      <td>NaN</td>\n",
              "      <td>20</td>\n",
              "      <td>NaN</td>\n",
              "      <td>200</td>\n",
              "      <td>3211</td>\n",
              "      <td>NaN</td>\n",
              "      <td>NaN</td>\n",
              "      <td>NaN</td>\n",
              "      <td>425</td>\n",
              "      <td>199</td>\n",
              "      <td>1415</td>\n",
              "      <td>81</td>\n",
              "      <td>1186</td>\n",
              "      <td>354</td>\n",
              "      <td>36</td>\n",
              "      <td>NaN</td>\n",
              "      <td>NaN</td>\n",
              "      <td>NaN</td>\n",
              "      <td>NaN</td>\n",
              "      <td>NaN</td>\n",
              "      <td>112</td>\n",
              "      <td>3808</td>\n",
              "      <td>2085</td>\n",
              "      <td>1195</td>\n",
              "      <td>NaN</td>\n",
              "      <td>NaN</td>\n",
              "      <td>NaN</td>\n",
              "      <td>3290</td>\n",
              "      <td>6570</td>\n",
              "      <td>NaN</td>\n",
              "      <td>NaN</td>\n",
              "      <td>NaN</td>\n",
              "      <td>NaN</td>\n",
              "      <td>133</td>\n",
              "      <td>NaN</td>\n",
              "      <td>NaN</td>\n",
              "      <td>NaN</td>\n",
              "      <td>787</td>\n",
              "      <td>NaN</td>\n",
              "      <td>NaN</td>\n",
              "      <td>NaN</td>\n",
              "      <td>NaN</td>\n",
              "      <td>NaN</td>\n",
              "      <td>NaN</td>\n",
              "      <td>140</td>\n",
              "      <td>NaN</td>\n",
              "      <td>NaN</td>\n",
              "      <td>NaN</td>\n",
              "      <td>654</td>\n",
              "      <td>1540</td>\n",
              "      <td>1415</td>\n",
              "      <td>NaN</td>\n",
              "      <td>3</td>\n",
              "    </tr>\n",
              "    <tr>\n",
              "      <th>4</th>\n",
              "      <td>1991</td>\n",
              "      <td>5</td>\n",
              "      <td>650</td>\n",
              "      <td>NaN</td>\n",
              "      <td>20</td>\n",
              "      <td>NaN</td>\n",
              "      <td>146</td>\n",
              "      <td>3051</td>\n",
              "      <td>NaN</td>\n",
              "      <td>NaN</td>\n",
              "      <td>NaN</td>\n",
              "      <td>553</td>\n",
              "      <td>231</td>\n",
              "      <td>1449</td>\n",
              "      <td>82</td>\n",
              "      <td>931</td>\n",
              "      <td>335</td>\n",
              "      <td>27</td>\n",
              "      <td>NaN</td>\n",
              "      <td>NaN</td>\n",
              "      <td>NaN</td>\n",
              "      <td>NaN</td>\n",
              "      <td>NaN</td>\n",
              "      <td>147</td>\n",
              "      <td>3755</td>\n",
              "      <td>2185</td>\n",
              "      <td>723</td>\n",
              "      <td>NaN</td>\n",
              "      <td>NaN</td>\n",
              "      <td>NaN</td>\n",
              "      <td>3546</td>\n",
              "      <td>6454</td>\n",
              "      <td>NaN</td>\n",
              "      <td>NaN</td>\n",
              "      <td>NaN</td>\n",
              "      <td>NaN</td>\n",
              "      <td>163</td>\n",
              "      <td>NaN</td>\n",
              "      <td>NaN</td>\n",
              "      <td>NaN</td>\n",
              "      <td>845</td>\n",
              "      <td>NaN</td>\n",
              "      <td>NaN</td>\n",
              "      <td>NaN</td>\n",
              "      <td>NaN</td>\n",
              "      <td>NaN</td>\n",
              "      <td>NaN</td>\n",
              "      <td>78</td>\n",
              "      <td>NaN</td>\n",
              "      <td>NaN</td>\n",
              "      <td>NaN</td>\n",
              "      <td>670</td>\n",
              "      <td>1266</td>\n",
              "      <td>1449</td>\n",
              "      <td>NaN</td>\n",
              "      <td>3</td>\n",
              "    </tr>\n",
              "  </tbody>\n",
              "</table>\n",
              "</div>"
            ],
            "text/plain": [
              "    ano  mes  hom_doloso  ...  indicador_roubo_veic  registro_ocorrencias  fase\n",
              "0  1991    1         657  ...                  1174                   NaN     3\n",
              "1  1991    2         732  ...                  1097                   NaN     3\n",
              "2  1991    3         713  ...                  1265                   NaN     3\n",
              "3  1991    4         634  ...                  1415                   NaN     3\n",
              "4  1991    5         650  ...                  1449                   NaN     3\n",
              "\n",
              "[5 rows x 56 columns]"
            ]
          },
          "metadata": {
            "tags": []
          },
          "execution_count": 67
        }
      ]
    },
    {
      "cell_type": "markdown",
      "metadata": {
        "id": "hnURCkVQEKjG",
        "colab_type": "text"
      },
      "source": [
        "Como só preciso das variáveis que citei a cima, irei criar um novo _DataFrame_ `df_veiculos` que contém somente essas variáveis. Para isso, basta criar uma cópia de `df` selecionando as colunas que quero copiar com o método `copy()`:"
      ]
    },
    {
      "cell_type": "code",
      "metadata": {
        "id": "l0A7RlZd52M9",
        "colab_type": "code",
        "colab": {
          "base_uri": "https://localhost:8080/",
          "height": 204
        },
        "outputId": "5b4dbf60-c860-446e-c608-2284dff38304"
      },
      "source": [
        "# Criando uma cópia do DataFrame original com as variáveis necessárias\n",
        "\n",
        "df_veiculos = df[['ano','roubo_veiculos', 'furto_veiculos', 'recuperacao_veiculos']].copy()\n",
        "\n",
        "# Mostrando as 5 primeiras entradas do novo DataFrame\n",
        "\n",
        "df_veiculos.head()"
      ],
      "execution_count": null,
      "outputs": [
        {
          "output_type": "execute_result",
          "data": {
            "text/html": [
              "<div>\n",
              "<style scoped>\n",
              "    .dataframe tbody tr th:only-of-type {\n",
              "        vertical-align: middle;\n",
              "    }\n",
              "\n",
              "    .dataframe tbody tr th {\n",
              "        vertical-align: top;\n",
              "    }\n",
              "\n",
              "    .dataframe thead th {\n",
              "        text-align: right;\n",
              "    }\n",
              "</style>\n",
              "<table border=\"1\" class=\"dataframe\">\n",
              "  <thead>\n",
              "    <tr style=\"text-align: right;\">\n",
              "      <th></th>\n",
              "      <th>ano</th>\n",
              "      <th>roubo_veiculos</th>\n",
              "      <th>furto_veiculos</th>\n",
              "      <th>recuperacao_veiculos</th>\n",
              "    </tr>\n",
              "  </thead>\n",
              "  <tbody>\n",
              "    <tr>\n",
              "      <th>0</th>\n",
              "      <td>1991</td>\n",
              "      <td>1174</td>\n",
              "      <td>2009</td>\n",
              "      <td>872</td>\n",
              "    </tr>\n",
              "    <tr>\n",
              "      <th>1</th>\n",
              "      <td>1991</td>\n",
              "      <td>1097</td>\n",
              "      <td>1850</td>\n",
              "      <td>751</td>\n",
              "    </tr>\n",
              "    <tr>\n",
              "      <th>2</th>\n",
              "      <td>1991</td>\n",
              "      <td>1265</td>\n",
              "      <td>2084</td>\n",
              "      <td>789</td>\n",
              "    </tr>\n",
              "    <tr>\n",
              "      <th>3</th>\n",
              "      <td>1991</td>\n",
              "      <td>1415</td>\n",
              "      <td>2085</td>\n",
              "      <td>787</td>\n",
              "    </tr>\n",
              "    <tr>\n",
              "      <th>4</th>\n",
              "      <td>1991</td>\n",
              "      <td>1449</td>\n",
              "      <td>2185</td>\n",
              "      <td>845</td>\n",
              "    </tr>\n",
              "  </tbody>\n",
              "</table>\n",
              "</div>"
            ],
            "text/plain": [
              "    ano  roubo_veiculos  furto_veiculos  recuperacao_veiculos\n",
              "0  1991            1174            2009                   872\n",
              "1  1991            1097            1850                   751\n",
              "2  1991            1265            2084                   789\n",
              "3  1991            1415            2085                   787\n",
              "4  1991            1449            2185                   845"
            ]
          },
          "metadata": {
            "tags": []
          },
          "execution_count": 68
        }
      ]
    },
    {
      "cell_type": "code",
      "metadata": {
        "id": "a98L0AzNVpLl",
        "colab_type": "code",
        "colab": {
          "base_uri": "https://localhost:8080/",
          "height": 102
        },
        "outputId": "f393c8a3-3ef0-404e-e46d-f2eda8fd174b"
      },
      "source": [
        "# Verificando os tipos dos dados de cada variável\n",
        "\n",
        "df_veiculos.dtypes"
      ],
      "execution_count": null,
      "outputs": [
        {
          "output_type": "execute_result",
          "data": {
            "text/plain": [
              "ano                     int64\n",
              "roubo_veiculos          int64\n",
              "furto_veiculos          int64\n",
              "recuperacao_veiculos    int64\n",
              "dtype: object"
            ]
          },
          "metadata": {
            "tags": []
          },
          "execution_count": 69
        }
      ]
    },
    {
      "cell_type": "markdown",
      "metadata": {
        "id": "eAfNTrxJGO3N",
        "colab_type": "text"
      },
      "source": [
        "Além disso, também é necessário verificar se o _dataset_ não está comprometido pela ausência de valores:\n"
      ]
    },
    {
      "cell_type": "code",
      "metadata": {
        "id": "_TTVcbHEYudV",
        "colab_type": "code",
        "colab": {
          "base_uri": "https://localhost:8080/",
          "height": 102
        },
        "outputId": "13042490-86b8-41f4-d7e4-4139f331a079"
      },
      "source": [
        "# Verificando se há valores ausentes no DataFrame\n",
        "\n",
        "df_veiculos.isnull().sum() / df.shape[0] "
      ],
      "execution_count": null,
      "outputs": [
        {
          "output_type": "execute_result",
          "data": {
            "text/plain": [
              "ano                     0.0\n",
              "roubo_veiculos          0.0\n",
              "furto_veiculos          0.0\n",
              "recuperacao_veiculos    0.0\n",
              "dtype: float64"
            ]
          },
          "metadata": {
            "tags": []
          },
          "execution_count": 70
        }
      ]
    },
    {
      "cell_type": "markdown",
      "metadata": {
        "id": "mIKcZ0S7Gew2",
        "colab_type": "text"
      },
      "source": [
        "Não há nenhum valor ausente para as variáveis, então posso prosseguir para a retirada de informações estatísticas dos dados."
      ]
    },
    {
      "cell_type": "markdown",
      "metadata": {
        "id": "G6dnsNYm-41g",
        "colab_type": "text"
      },
      "source": [
        "## Informações Estatísticas do crime contra propriedade no Rio de Janeiro"
      ]
    },
    {
      "cell_type": "markdown",
      "metadata": {
        "id": "3DXJAoqKHmuW",
        "colab_type": "text"
      },
      "source": [
        "Inicialmente, irei usar o método `describe()` para retirar dados estatísticos sobre cada variável."
      ]
    },
    {
      "cell_type": "code",
      "metadata": {
        "id": "dnzpO2bza3U-",
        "colab_type": "code",
        "colab": {
          "base_uri": "https://localhost:8080/",
          "height": 297
        },
        "outputId": "69e8ce0b-bcc6-4cbc-b17d-f8b77c17604a"
      },
      "source": [
        "# Dados estatísticos sobre cada variável\n",
        "\n",
        "df_veiculos.describe()"
      ],
      "execution_count": null,
      "outputs": [
        {
          "output_type": "execute_result",
          "data": {
            "text/html": [
              "<div>\n",
              "<style scoped>\n",
              "    .dataframe tbody tr th:only-of-type {\n",
              "        vertical-align: middle;\n",
              "    }\n",
              "\n",
              "    .dataframe tbody tr th {\n",
              "        vertical-align: top;\n",
              "    }\n",
              "\n",
              "    .dataframe thead th {\n",
              "        text-align: right;\n",
              "    }\n",
              "</style>\n",
              "<table border=\"1\" class=\"dataframe\">\n",
              "  <thead>\n",
              "    <tr style=\"text-align: right;\">\n",
              "      <th></th>\n",
              "      <th>ano</th>\n",
              "      <th>roubo_veiculos</th>\n",
              "      <th>furto_veiculos</th>\n",
              "      <th>recuperacao_veiculos</th>\n",
              "    </tr>\n",
              "  </thead>\n",
              "  <tbody>\n",
              "    <tr>\n",
              "      <th>count</th>\n",
              "      <td>344.000000</td>\n",
              "      <td>344.000000</td>\n",
              "      <td>344.000000</td>\n",
              "      <td>344.000000</td>\n",
              "    </tr>\n",
              "    <tr>\n",
              "      <th>mean</th>\n",
              "      <td>2004.837209</td>\n",
              "      <td>2448.697674</td>\n",
              "      <td>1674.671512</td>\n",
              "      <td>1772.238372</td>\n",
              "    </tr>\n",
              "    <tr>\n",
              "      <th>std</th>\n",
              "      <td>8.289036</td>\n",
              "      <td>789.689559</td>\n",
              "      <td>294.852020</td>\n",
              "      <td>656.761843</td>\n",
              "    </tr>\n",
              "    <tr>\n",
              "      <th>min</th>\n",
              "      <td>1991.000000</td>\n",
              "      <td>1097.000000</td>\n",
              "      <td>1159.000000</td>\n",
              "      <td>729.000000</td>\n",
              "    </tr>\n",
              "    <tr>\n",
              "      <th>25%</th>\n",
              "      <td>1998.000000</td>\n",
              "      <td>1889.750000</td>\n",
              "      <td>1430.500000</td>\n",
              "      <td>1276.750000</td>\n",
              "    </tr>\n",
              "    <tr>\n",
              "      <th>50%</th>\n",
              "      <td>2005.000000</td>\n",
              "      <td>2322.000000</td>\n",
              "      <td>1637.500000</td>\n",
              "      <td>1755.000000</td>\n",
              "    </tr>\n",
              "    <tr>\n",
              "      <th>75%</th>\n",
              "      <td>2012.000000</td>\n",
              "      <td>2778.000000</td>\n",
              "      <td>1833.250000</td>\n",
              "      <td>2202.000000</td>\n",
              "    </tr>\n",
              "    <tr>\n",
              "      <th>max</th>\n",
              "      <td>2019.000000</td>\n",
              "      <td>5358.000000</td>\n",
              "      <td>2630.000000</td>\n",
              "      <td>3695.000000</td>\n",
              "    </tr>\n",
              "  </tbody>\n",
              "</table>\n",
              "</div>"
            ],
            "text/plain": [
              "               ano  roubo_veiculos  furto_veiculos  recuperacao_veiculos\n",
              "count   344.000000      344.000000      344.000000            344.000000\n",
              "mean   2004.837209     2448.697674     1674.671512           1772.238372\n",
              "std       8.289036      789.689559      294.852020            656.761843\n",
              "min    1991.000000     1097.000000     1159.000000            729.000000\n",
              "25%    1998.000000     1889.750000     1430.500000           1276.750000\n",
              "50%    2005.000000     2322.000000     1637.500000           1755.000000\n",
              "75%    2012.000000     2778.000000     1833.250000           2202.000000\n",
              "max    2019.000000     5358.000000     2630.000000           3695.000000"
            ]
          },
          "metadata": {
            "tags": []
          },
          "execution_count": 71
        }
      ]
    },
    {
      "cell_type": "markdown",
      "metadata": {
        "id": "mcY8oYPWNuF6",
        "colab_type": "text"
      },
      "source": [
        "Agora, irei verificar se nossos dados possuem _outiliers_ que podem ter comprometido as estimativas de localização obtidas a cima.\n",
        "\n",
        "Para isso, irei criar duas funções:\n",
        "- `median()` que retorna a mediana de uma variável\n",
        "- `outliersFromCol()` que mostra quantos _outliers_ estão presentes em cada variável, além dos valores a partir dos quais esses _outliers_ são encontrados."
      ]
    },
    {
      "cell_type": "code",
      "metadata": {
        "id": "sustC0rqHeRK",
        "colab_type": "code",
        "colab": {}
      },
      "source": [
        "# Função para calcular a mediana de qualquer variável (coluna) do DataFrame\n",
        "# Parâmetros:\n",
        "# - var -> coluna do DataFrame\n",
        "# Retorno:\n",
        "# - result -> mediana dos valores da coluna\n",
        "\n",
        "def median(var):\n",
        "  for i in var:\n",
        "    if not isinstance(i,(int,float)):\n",
        "      return\n",
        "\n",
        "  var = list(var)\n",
        "  var.sort()\n",
        "  var_size = len(var)\n",
        "\n",
        "  if var_size % 2 == 0:\n",
        "    result = (var[var_size//2 - 1] + var[var_size//2]) / 2\n",
        "  else:\n",
        "    result = var[var_size//2]\n",
        "\n",
        "  return result"
      ],
      "execution_count": null,
      "outputs": []
    },
    {
      "cell_type": "code",
      "metadata": {
        "id": "kmQh9LSg715Q",
        "colab_type": "code",
        "cellView": "both",
        "colab": {}
      },
      "source": [
        "# Função para detectar os valores máximo e mínimo de uma variável onde não há outliers\n",
        "# Parâmetros:\n",
        "# - col -> coluna do DataFrame\n",
        "# Retorno:\n",
        "# - Não retorna nada, apenas printa os valores máximo e mínimo \n",
        "# e também quantos outliers a variável possui.\n",
        "\n",
        "def outliersFromColumn(col):\n",
        "  sorted_col = list(col)\n",
        "  sorted_col.sort()\n",
        "  size_col = len(sorted_col)\n",
        "  half_col_inf = []\n",
        "  half_col_sup = []\n",
        "\n",
        "  for i in range(size_col):\n",
        "    if (i == size_col//2) and (size_col % 2 != 0):\n",
        "      continue\n",
        "    elif i < (size_col//2):\n",
        "      half_col_inf.append(sorted_col[i])\n",
        "    else:\n",
        "      half_col_sup.append(sorted_col[i])\n",
        "\n",
        "  Q1 = median(half_col_inf)\n",
        "  Q2 = median(sorted_col)\n",
        "  Q3 = median(half_col_sup)\n",
        "\n",
        "  IQR = Q3 - Q1\n",
        "  outlier_inf = Q1 - 1.5 * IQR\n",
        "  outlier_sup = Q3 + 1.5 * IQR\n",
        "\n",
        "  outlier_count = col[col > outlier_sup].count() + col[col < outlier_inf].count()\n",
        "\n",
        "  print(\"Todos os valores abaixo de {} e acima de {} podem ser considerados outliers para essa variável.\\nQuantidade de outliers: {}\".format(outlier_inf, outlier_sup, outlier_count))"
      ],
      "execution_count": null,
      "outputs": []
    },
    {
      "cell_type": "markdown",
      "metadata": {
        "id": "9mukSYyePHrr",
        "colab_type": "text"
      },
      "source": [
        "Aplicando a função `outliersFromCol` para cada uma das variáveis do _DataFrame_:"
      ]
    },
    {
      "cell_type": "code",
      "metadata": {
        "id": "r4IAUh4AI0zM",
        "colab_type": "code",
        "colab": {
          "base_uri": "https://localhost:8080/",
          "height": 51
        },
        "outputId": "b7c805e8-1bb9-4200-c64d-55a9ef219452"
      },
      "source": [
        "# Outliers da variável roubo_veiculos\n",
        "\n",
        "outliersFromColumn(df_veiculos.roubo_veiculos) "
      ],
      "execution_count": null,
      "outputs": [
        {
          "output_type": "stream",
          "text": [
            "Todos os valores abaixo de 555.25 e acima de 4113.25 podem ser considerados outliers para essa variável.\n",
            "Quantidade de outliers: 20\n"
          ],
          "name": "stdout"
        }
      ]
    },
    {
      "cell_type": "markdown",
      "metadata": {
        "id": "NcDmvAMWPjBd",
        "colab_type": "text"
      },
      "source": [
        "Para comprovar esses valores, basta plotar um boxplot para a variável, onde os _outliers_ são facilmente visiveis:"
      ]
    },
    {
      "cell_type": "code",
      "metadata": {
        "id": "AEMRZyJlp6jr",
        "colab_type": "code",
        "colab": {
          "base_uri": "https://localhost:8080/",
          "height": 266
        },
        "outputId": "a0ab1d41-2896-4821-94bd-f3c2fe93a6f3"
      },
      "source": [
        "# BoxPlot para a variável roubo_veiculos\n",
        "\n",
        "df_veiculos.roubo_veiculos.plot(kind='box');"
      ],
      "execution_count": null,
      "outputs": [
        {
          "output_type": "display_data",
          "data": {
            "image/png": "[encoded data removed]",
            "text/plain": [
              "<Figure size 432x288 with 1 Axes>"
            ]
          },
          "metadata": {
            "tags": [],
            "needs_background": "light"
          }
        }
      ]
    },
    {
      "cell_type": "code",
      "metadata": {
        "id": "ycjke4Jf2mfk",
        "colab_type": "code",
        "colab": {
          "base_uri": "https://localhost:8080/",
          "height": 51
        },
        "outputId": "7567d837-9062-4ca1-950c-41b8acabe977"
      },
      "source": [
        "# Outliers da variável furto_veiculos\n",
        "\n",
        "outliersFromColumn(df_veiculos.furto_veiculos)"
      ],
      "execution_count": null,
      "outputs": [
        {
          "output_type": "stream",
          "text": [
            "Todos os valores abaixo de 824.75 e acima de 2438.75 podem ser considerados outliers para essa variável.\n",
            "Quantidade de outliers: 5\n"
          ],
          "name": "stdout"
        }
      ]
    },
    {
      "cell_type": "code",
      "metadata": {
        "id": "kSx2Bdge2nrq",
        "colab_type": "code",
        "colab": {
          "base_uri": "https://localhost:8080/",
          "height": 266
        },
        "outputId": "3cdd2349-ee2f-4e82-8bc6-071f34a48391"
      },
      "source": [
        "# BoxPlot para a variável furto_veiculos\n",
        "\n",
        "df_veiculos.furto_veiculos.plot(kind='box');"
      ],
      "execution_count": null,
      "outputs": [
        {
          "output_type": "display_data",
          "data": {
            "image/png": "[encoded data removed]",
            "text/plain": [
              "<Figure size 432x288 with 1 Axes>"
            ]
          },
          "metadata": {
            "tags": [],
            "needs_background": "light"
          }
        }
      ]
    },
    {
      "cell_type": "code",
      "metadata": {
        "id": "xUScIDZn2n4l",
        "colab_type": "code",
        "colab": {
          "base_uri": "https://localhost:8080/",
          "height": 51
        },
        "outputId": "18b50c1c-c735-4e96-8f5a-b87405ced7bd"
      },
      "source": [
        " # Outliers da variável recuperacao_veiculos\n",
        "\n",
        "outliersFromColumn(df_veiculos.recuperacao_veiculos)"
      ],
      "execution_count": null,
      "outputs": [
        {
          "output_type": "stream",
          "text": [
            "Todos os valores abaixo de -114.75 e acima de 3595.25 podem ser considerados outliers para essa variável.\n",
            "Quantidade de outliers: 1\n"
          ],
          "name": "stdout"
        }
      ]
    },
    {
      "cell_type": "code",
      "metadata": {
        "id": "BFkzOCJq2oF7",
        "colab_type": "code",
        "colab": {
          "base_uri": "https://localhost:8080/",
          "height": 266
        },
        "outputId": "01ade378-1af0-498a-b3c0-dd956c96e50f"
      },
      "source": [
        "# BoxPlot para a variável recuperacao_veiculos\n",
        "\n",
        "df_veiculos.recuperacao_veiculos.plot(kind='box');"
      ],
      "execution_count": null,
      "outputs": [
        {
          "output_type": "display_data",
          "data": {
            "image/png": "[encoded data removed]",
            "text/plain": [
              "<Figure size 432x288 with 1 Axes>"
            ]
          },
          "metadata": {
            "tags": [],
            "needs_background": "light"
          }
        }
      ]
    },
    {
      "cell_type": "markdown",
      "metadata": {
        "id": "dqi-8OYgQRm6",
        "colab_type": "text"
      },
      "source": [
        "Como a única variável que apresenta uma quantidade significativa de _outliers_ é a `roubo_veiculos`, irei substituir esses valores extremos pela mediana de todos os valores da coluna, já que ela é uma estimativa de localização robusta (não é sensível a _outliers_). Dessa forma, evito de deletar entradas e os dados se tornam mais confiáveis para a análise.\n",
        "\n",
        "Para as outras duas variáveis em questão, não há problemas em remover as entradas que contém _outliers_, já que seu número é pouco expressívo, então é isso que farei."
      ]
    },
    {
      "cell_type": "code",
      "metadata": {
        "id": "5ZEtGGwq5chq",
        "colab_type": "code",
        "colab": {}
      },
      "source": [
        "# Substituindo os outliers pela mediana na variável roubo_veiculos\n",
        "\n",
        "mediana_roubo_veiculos = int(median(df_veiculos.roubo_veiculos))\n",
        "df_veiculos.loc[df_veiculos.roubo_veiculos > 4113.25, 'roubo_veiculos'] = mediana_roubo_veiculos"
      ],
      "execution_count": null,
      "outputs": []
    },
    {
      "cell_type": "code",
      "metadata": {
        "id": "sc7CfRe97sma",
        "colab_type": "code",
        "colab": {}
      },
      "source": [
        "# Eliminando as entradas que contém outliers na variável furto_veiculos\n",
        "\n",
        "df_veiculos.drop(df_veiculos[df_veiculos.furto_veiculos > 2438.75].index, inplace=True)"
      ],
      "execution_count": null,
      "outputs": []
    },
    {
      "cell_type": "code",
      "metadata": {
        "id": "tTi_1FQI739o",
        "colab_type": "code",
        "colab": {}
      },
      "source": [
        "# Eliminando as entradas que contém outliers na variável recuperacao_veiculos\n",
        "\n",
        "df_veiculos.drop(df_veiculos[df_veiculos.recuperacao_veiculos > 3595.25].index, inplace=True)"
      ],
      "execution_count": null,
      "outputs": []
    },
    {
      "cell_type": "markdown",
      "metadata": {
        "id": "xUkeFiTZSXTO",
        "colab_type": "text"
      },
      "source": [
        "Agora é possível encontrarmos a média de veículos roubados, furtados e recuperados por mês no Rio de Janeiro entre 1991 e 2019 sem nos preocuparmos com a confiabilidade dessa estimativa:"
      ]
    },
    {
      "cell_type": "code",
      "metadata": {
        "id": "ZqUAjn6Jzx0M",
        "colab_type": "code",
        "colab": {
          "base_uri": "https://localhost:8080/",
          "height": 34
        },
        "outputId": "1ec15d52-9d4c-4f64-f854-9aeab4fc7320"
      },
      "source": [
        "# Média da variável roubo_veiculos\n",
        "\n",
        "print(\"Uma média de {:.0f} veículos foram roubados por mês entre 1991 e 2019 no Rio de Janeiro.\".format(df_veiculos.roubo_veiculos.mean()))"
      ],
      "execution_count": null,
      "outputs": [
        {
          "output_type": "stream",
          "text": [
            "Uma média de 2316 veículos foram roubados por mês entre 1991 e 2019 no Rio de Janeiro.\n"
          ],
          "name": "stdout"
        }
      ]
    },
    {
      "cell_type": "code",
      "metadata": {
        "id": "00WpIJwY0cTm",
        "colab_type": "code",
        "colab": {
          "base_uri": "https://localhost:8080/",
          "height": 34
        },
        "outputId": "e8f5a9b0-c038-4614-9b28-87efa474bc3e"
      },
      "source": [
        "# Média da variável furto_veiculos\n",
        "\n",
        "print(\"Uma média de {:.0f} veículos foram furtados por mês entre 1991 e 2019 no Rio de Janeiro.\".format(df_veiculos.furto_veiculos.mean()))"
      ],
      "execution_count": null,
      "outputs": [
        {
          "output_type": "stream",
          "text": [
            "Uma média de 1663 veículos foram furtados por mês entre 1991 e 2019 no Rio de Janeiro.\n"
          ],
          "name": "stdout"
        }
      ]
    },
    {
      "cell_type": "code",
      "metadata": {
        "id": "CEgJUpvQ0lnL",
        "colab_type": "code",
        "colab": {
          "base_uri": "https://localhost:8080/",
          "height": 34
        },
        "outputId": "4e2e947c-fed1-4afb-d2ae-1896ab106534"
      },
      "source": [
        "# Média da variável recuperacao_veiculos\n",
        "\n",
        "print(\"Uma média de {:.0f} veículos foram recuperados por mês entre 1991 e 2019 no Rio de Janeiro.\".format(df_veiculos.recuperacao_veiculos.mean()))"
      ],
      "execution_count": null,
      "outputs": [
        {
          "output_type": "stream",
          "text": [
            "Uma média de 1775 veículos foram recuperados por mês entre 1991 e 2019 no Rio de Janeiro.\n"
          ],
          "name": "stdout"
        }
      ]
    },
    {
      "cell_type": "markdown",
      "metadata": {
        "id": "oVoZnz8hTFRT",
        "colab_type": "text"
      },
      "source": [
        "Além disso, é possível calcular a taxa (%) com que os veículos foram recuperados pela polícia durante todos os meses e tirar a média:"
      ]
    },
    {
      "cell_type": "code",
      "metadata": {
        "id": "Gwo5QHwVkMq1",
        "colab_type": "code",
        "colab": {
          "base_uri": "https://localhost:8080/",
          "height": 34
        },
        "outputId": "1056b3b0-4fb0-485c-9e68-69e672d3c0b7"
      },
      "source": [
        "# Média da taxa de recuperação de veículos por mês\n",
        "\n",
        "taxa_recuperacao_mensal = df_veiculos.recuperacao_veiculos.mean() / (df_veiculos.roubo_veiculos.mean() + df_veiculos.furto_veiculos.mean()) * 100\n",
        "print(\"A taxa de recuperação de veículos furtados e roubados por mês foi de {:.1f}% no periodo analisado.\".format(taxa_recuperacao_mensal))"
      ],
      "execution_count": null,
      "outputs": [
        {
          "output_type": "stream",
          "text": [
            "A taxa de recuperação de veículos furtados e roubados por mês foi de 44.2% no periodo analisado.\n"
          ],
          "name": "stdout"
        }
      ]
    },
    {
      "cell_type": "markdown",
      "metadata": {
        "id": "F3I6itOHUUVT",
        "colab_type": "text"
      },
      "source": [
        "Para uma análise mais completa, irei também verificar os dados correspondentes a cada ano no total. Para isso, irei criar um novo _DataFrame_ de nome `df_anual` com os dados em perspectiva anual.\n",
        "\n",
        "Nesse _DataFrame_, irei adicinar mais duas variáveis:\n",
        "- `total_crimes`: soma da quantidade de furtos e roubos naquele ano.\n",
        "- `taxa_recuperacao`: taxa de recuperação de veículos pela polícia naquele ano."
      ]
    },
    {
      "cell_type": "code",
      "metadata": {
        "id": "F7W_e5xn0rzV",
        "colab_type": "code",
        "colab": {
          "base_uri": "https://localhost:8080/",
          "height": 235
        },
        "outputId": "fb8aac25-d1bc-4cb3-fe28-8ac1aff49a6b"
      },
      "source": [
        "# Criando um novo DataFrame com os dados em perspectiva anual\n",
        "\n",
        "ano = [i for i in range(1991,2020)]\n",
        "ro_ve = list(df_veiculos.groupby('ano').roubo_veiculos.sum())\n",
        "fu_ve = list(df_veiculos.groupby('ano').furto_veiculos.sum())\n",
        "re_ve = list(df_veiculos.groupby('ano').recuperacao_veiculos.sum())\n",
        "\n",
        "dic_df = {'ano': ano,\n",
        "          'roubo_veiculos': ro_ve,\n",
        "          'furto_veiculos': fu_ve,\n",
        "          'recuperacao_veiculos' : re_ve}\n",
        "\n",
        "df_anual = pd.DataFrame(data=dic_df)\n",
        "\n",
        "df_anual.set_index(['ano'], inplace=True)\n",
        "\n",
        "df_anual['total_crimes'] = df_anual.roubo_veiculos + df_anual.furto_veiculos\n",
        "df_anual['taxa_recuperacao'] = df_anual.recuperacao_veiculos/df_anual.total_crimes\n",
        "\n",
        "# Mostrando as 5 primeiras entradas do DataFrame\n",
        "\n",
        "df_anual.head()"
      ],
      "execution_count": null,
      "outputs": [
        {
          "output_type": "execute_result",
          "data": {
            "text/html": [
              "<div>\n",
              "<style scoped>\n",
              "    .dataframe tbody tr th:only-of-type {\n",
              "        vertical-align: middle;\n",
              "    }\n",
              "\n",
              "    .dataframe tbody tr th {\n",
              "        vertical-align: top;\n",
              "    }\n",
              "\n",
              "    .dataframe thead th {\n",
              "        text-align: right;\n",
              "    }\n",
              "</style>\n",
              "<table border=\"1\" class=\"dataframe\">\n",
              "  <thead>\n",
              "    <tr style=\"text-align: right;\">\n",
              "      <th></th>\n",
              "      <th>roubo_veiculos</th>\n",
              "      <th>furto_veiculos</th>\n",
              "      <th>recuperacao_veiculos</th>\n",
              "      <th>total_crimes</th>\n",
              "      <th>taxa_recuperacao</th>\n",
              "    </tr>\n",
              "    <tr>\n",
              "      <th>ano</th>\n",
              "      <th></th>\n",
              "      <th></th>\n",
              "      <th></th>\n",
              "      <th></th>\n",
              "      <th></th>\n",
              "    </tr>\n",
              "  </thead>\n",
              "  <tbody>\n",
              "    <tr>\n",
              "      <th>1991</th>\n",
              "      <td>16452</td>\n",
              "      <td>23979</td>\n",
              "      <td>9890</td>\n",
              "      <td>40431</td>\n",
              "      <td>0.244614</td>\n",
              "    </tr>\n",
              "    <tr>\n",
              "      <th>1992</th>\n",
              "      <td>24502</td>\n",
              "      <td>27619</td>\n",
              "      <td>11246</td>\n",
              "      <td>52121</td>\n",
              "      <td>0.215767</td>\n",
              "    </tr>\n",
              "    <tr>\n",
              "      <th>1993</th>\n",
              "      <td>24790</td>\n",
              "      <td>26897</td>\n",
              "      <td>11619</td>\n",
              "      <td>51687</td>\n",
              "      <td>0.224795</td>\n",
              "    </tr>\n",
              "    <tr>\n",
              "      <th>1994</th>\n",
              "      <td>27470</td>\n",
              "      <td>26231</td>\n",
              "      <td>16030</td>\n",
              "      <td>53701</td>\n",
              "      <td>0.298505</td>\n",
              "    </tr>\n",
              "    <tr>\n",
              "      <th>1995</th>\n",
              "      <td>23676</td>\n",
              "      <td>21928</td>\n",
              "      <td>17622</td>\n",
              "      <td>45604</td>\n",
              "      <td>0.386413</td>\n",
              "    </tr>\n",
              "  </tbody>\n",
              "</table>\n",
              "</div>"
            ],
            "text/plain": [
              "      roubo_veiculos  furto_veiculos  ...  total_crimes  taxa_recuperacao\n",
              "ano                                   ...                                \n",
              "1991           16452           23979  ...         40431          0.244614\n",
              "1992           24502           27619  ...         52121          0.215767\n",
              "1993           24790           26897  ...         51687          0.224795\n",
              "1994           27470           26231  ...         53701          0.298505\n",
              "1995           23676           21928  ...         45604          0.386413\n",
              "\n",
              "[5 rows x 5 columns]"
            ]
          },
          "metadata": {
            "tags": []
          },
          "execution_count": 83
        }
      ]
    },
    {
      "cell_type": "markdown",
      "metadata": {
        "id": "BtNZ-pVsU55i",
        "colab_type": "text"
      },
      "source": [
        "Assim, posso verificar em quais anos as taxas de recuperação de veículos foram mais altas e mais baixas:"
      ]
    },
    {
      "cell_type": "code",
      "metadata": {
        "id": "LyPRD54u2TnS",
        "colab_type": "code",
        "colab": {
          "base_uri": "https://localhost:8080/",
          "height": 51
        },
        "outputId": "6982e5a2-eec8-4127-a6a1-4aa6cb0be7a5"
      },
      "source": [
        "# Verificando os valores máximo e mínimo para a taxa de recuperação de veículos\n",
        "\n",
        "recuperacao_max = df_anual.taxa_recuperacao.max()\n",
        "recuperacao_min = df_anual.taxa_recuperacao.min()\n",
        "\n",
        "print(\"A maior taxa de recuperação de veículos foi de {:.1f}% no ano de 2017\\nA menor foi de {:.1f}% no ano de 1992\".format(recuperacao_max*100,recuperacao_min*100))"
      ],
      "execution_count": null,
      "outputs": [
        {
          "output_type": "stream",
          "text": [
            "A maior taxa de recuperação de veículos foi de 86.4% no ano de 2017\n",
            "A menor foi de 21.8% no ano de 1992\n"
          ],
          "name": "stdout"
        }
      ]
    },
    {
      "cell_type": "markdown",
      "metadata": {
        "id": "dG3_nzk4w33x",
        "colab_type": "text"
      },
      "source": [
        "Com esses valores, é possível formular a hipótese de que a eficiência da polícia tem melhorado ao longo dos anos no combate aos furtos e roubos de veículos. Mas, para que essa hipótese seja confirmada, seria necessária uma análise mais detalhada."
      ]
    },
    {
      "cell_type": "markdown",
      "metadata": {
        "id": "7WK0NBQZASKC",
        "colab_type": "text"
      },
      "source": [
        "## Visualização de Dados\n",
        "\n",
        "Para facilitar a elaboração de conclusões a respeito dos valores obtidos na análise a cima, é importante plotar gráficos que facilitem a visualização desses dados:\n"
      ]
    },
    {
      "cell_type": "code",
      "metadata": {
        "id": "WQA3wyrJCK5j",
        "colab_type": "code",
        "colab": {
          "base_uri": "https://localhost:8080/",
          "height": 295
        },
        "outputId": "d638d6aa-44fd-4ceb-f158-09fa1403696e"
      },
      "source": [
        "# Gráfico de barras para a quantidade de crimes contra propriedade em cada ano\n",
        "\n",
        "df_anual.total_crimes.plot.bar();"
      ],
      "execution_count": null,
      "outputs": [
        {
          "output_type": "display_data",
          "data": {
            "image/png": "[encoded data removed]",
            "text/plain": [
              "<Figure size 432x288 with 1 Axes>"
            ]
          },
          "metadata": {
            "tags": [],
            "needs_background": "light"
          }
        }
      ]
    },
    {
      "cell_type": "markdown",
      "metadata": {
        "id": "4NRjusfAxmhx",
        "colab_type": "text"
      },
      "source": [
        "O gráfico a cima mostra que o total de crimes oscilou ao longo das últimas duas décadas. No entanto, ao final do período, pode-se dizer que foi um comportamento oscilatório lateral, onde as oscilações aconteceram dentro de um certo limite superior e inferior (no caso, por volta de 35 e 60 mil crimes), não apresentando nenhuma tendência signficativa de alta ou baixa nos valores.\n",
        "\n",
        "O gráfico abaixo é um histograma com a frequencia de valores para a variável `total_crimes`, complementando o gráfico de barras supracitado."
      ]
    },
    {
      "cell_type": "code",
      "metadata": {
        "id": "qPCTH-M5DrVu",
        "colab_type": "code",
        "colab": {
          "base_uri": "https://localhost:8080/",
          "height": 265
        },
        "outputId": "4666e157-90cc-4fa8-e873-60aaea20a241"
      },
      "source": [
        "# Histograma para a quantidade de crimes contra propriedade em cada ano\n",
        "\n",
        "df_anual.total_crimes.hist();"
      ],
      "execution_count": null,
      "outputs": [
        {
          "output_type": "display_data",
          "data": {
            "image/png": "[encoded data removed]",
            "text/plain": [
              "<Figure size 432x288 with 1 Axes>"
            ]
          },
          "metadata": {
            "tags": [],
            "needs_background": "light"
          }
        }
      ]
    },
    {
      "cell_type": "code",
      "metadata": {
        "id": "eqFH4C6LBz8S",
        "colab_type": "code",
        "colab": {
          "base_uri": "https://localhost:8080/",
          "height": 295
        },
        "outputId": "dbf664a9-a0ec-49ea-bbb3-a984baba7fe2"
      },
      "source": [
        "# Gráfico de barras para a taxa de recuperação de veículos pela polícia em cada ano\n",
        "\n",
        "df_anual.recuperacao_veiculos.plot.bar();"
      ],
      "execution_count": null,
      "outputs": [
        {
          "output_type": "display_data",
          "data": {
            "image/png": "[encoded data removed]",
            "text/plain": [
              "<Figure size 432x288 with 1 Axes>"
            ]
          },
          "metadata": {
            "tags": [],
            "needs_background": "light"
          }
        }
      ]
    },
    {
      "cell_type": "markdown",
      "metadata": {
        "id": "o240_h4kzy88",
        "colab_type": "text"
      },
      "source": [
        "Ao contrário do gráfico sobre a quantidade de crimes totais por ano, o gráfico a cima mostra que a recuperação de veículos pela polícia tem apresentado uma tendência de alta, apesar das oscilações. Esse fato é mais um indício de que a eficiência da força policial do Rio de Janeiro na recuperação de veículos pode ter melhorado ao longo dos anos."
      ]
    },
    {
      "cell_type": "markdown",
      "metadata": {
        "id": "LCsiXvM3BcsO",
        "colab_type": "text"
      },
      "source": [
        "## Conclusão\n"
      ]
    },
    {
      "cell_type": "markdown",
      "metadata": {
        "id": "UDQA502_hAwI",
        "colab_type": "text"
      },
      "source": [
        "Essa foi apenas uma análise superficial sobre os números referentes ao crime contra a propriedade no Rio de Janeiro entre os anos de 1991 e 2019.\n",
        "\n",
        "Como previsto inicialmente, os números realmente confirmam que o estado carioca sempre possuiu um índice de criminalidade alto que não apresenta tendência de quedas.\n",
        "\n",
        "Entretanto, a forma como as autoridades têm lidado com esse fato se apresentou promissora, tendo uma alta na recuperação dos veículos no período analisado."
      ]
    }
  ]
}